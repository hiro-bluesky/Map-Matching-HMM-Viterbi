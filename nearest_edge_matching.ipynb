{
 "cells": [
  {
   "cell_type": "markdown",
   "id": "0857bb7b",
   "metadata": {},
   "source": [
    "## Nearest-edge Map Matching\n",
    "\n",
    "#### = 各GPS測位点を最寄りのエッジ（道路リンク）に割り当てるマッチングアルゴリズム"
   ]
  },
  {
   "cell_type": "markdown",
   "id": "4bebb6ec",
   "metadata": {},
   "source": [
    "- 位置情報データ: df\n",
    "\n",
    "- ある一人のユーザの位置情報データ: df_1user"
   ]
  },
  {
   "cell_type": "code",
   "execution_count": null,
   "id": "c3fbaa84",
   "metadata": {},
   "outputs": [],
   "source": [
    "import pandas as pd\n",
    "\n",
    "df = pd.read_csv(\"位置情報csvのパス\") #パスを記入\n",
    "df_1user = df[df[\"userid\"]==\"調べたいユーザのID\"] #ユーザIDを記入"
   ]
  },
  {
   "cell_type": "code",
   "execution_count": null,
   "id": "ffedf5ce",
   "metadata": {},
   "outputs": [],
   "source": [
    "import osmnx as ox\n",
    "import geopandas as gpd\n",
    "import pandas as pd\n",
    "import numpy as np\n",
    "import networkx as nx\n",
    "import matplotlib.pyplot as plt\n",
    "from shapely.geometry import Point\n",
    "\n",
    "# -----------------------------\n",
    "# 1) OSMグラフの準備（中区などポリゴンで取得）\n",
    "# -----------------------------\n",
    "place = \"Naka Ward, Yokohama, Kanagawa, Japan\"\n",
    "gdf_place = ox.geocode_to_gdf(place)\n",
    "polygon = gdf_place.loc[0, \"geometry\"]\n",
    "\n",
    "G = ox.graph_from_polygon(polygon, network_type=\"all\", simplify=True)\n",
    "G_proj = ox.project_graph(G)\n",
    "nodes_gdf, edges_gdf = ox.graph_to_gdfs(G_proj)\n",
    "\n",
    "# -----------------------------\n",
    "# 2) ユーザーGPSデータをGeoDataFrame化\n",
    "# df_1user: lon, lat, recordedat列を持つ DataFrame\n",
    "# -----------------------------\n",
    "# recordedat を datetime 型に変換\n",
    "df_1user[\"recordedat\"] = pd.to_datetime(df_1user[\"recordedat\"])\n",
    "\n",
    "gdf_user = gpd.GeoDataFrame(\n",
    "    df_1user,\n",
    "    geometry=gpd.points_from_xy(df_1user.lon, df_1user.lat),\n",
    "    crs=\"EPSG:4326\"\n",
    ")\n",
    "gdf_user = gdf_user.to_crs(G_proj.graph['crs'])\n",
    "gdf_user = gdf_user.sort_values(\"recordedat\").reset_index(drop=True)"
   ]
  },
  {
   "cell_type": "code",
   "execution_count": null,
   "id": "72f52977",
   "metadata": {},
   "outputs": [],
   "source": [
    "from shapely.ops import nearest_points\n",
    "\n",
    "# -----------------------------\n",
    "# 3) 最近傍エッジにスナップ\n",
    "# -----------------------------\n",
    "# osmnxのnearest_edgesを使う（内部はKDTreeで効率的）\n",
    "x = gdf_user.geometry.x.values\n",
    "y = gdf_user.geometry.y.values\n",
    "nearest_edges = ox.distance.nearest_edges(G_proj, X=x, Y=y)\n",
    "\n",
    "gdf_user[\"nearest_edge\"] = nearest_edges\n",
    "\n",
    "# -----------------------------\n",
    "# 4) スナップ点を計算\n",
    "# -----------------------------\n",
    "snap_points = []\n",
    "for pt, edge in zip(gdf_user.geometry, gdf_user[\"nearest_edge\"]):\n",
    "    # edgeは(u, v, key) のタプル\n",
    "    edge_geom = edges_gdf.loc[edge, \"geometry\"]\n",
    "    nearest_pt = nearest_points(pt, edge_geom)[1]\n",
    "    snap_points.append(nearest_pt)\n",
    "\n",
    "gdf_user[\"snap_point\"] = snap_points\n",
    "\n",
    "# -----------------------------\n",
    "# 5) 可視化\n",
    "# -----------------------------\n",
    "gps_x = gdf_user.geometry.x.values\n",
    "gps_y = gdf_user.geometry.y.values\n",
    "snap_x = [p.x for p in gdf_user[\"snap_point\"]]\n",
    "snap_y = [p.y for p in gdf_user[\"snap_point\"]]\n",
    "\n",
    "fig, ax = plt.subplots(figsize=(10,10))\n",
    "ox.plot_graph(G_proj, ax=ax, show=False, close=False, node_size=0, edge_color=\"lightgray\")\n",
    "ax.plot(gps_x, gps_y, \"o-\", color=\"blue\", alpha=0.6, label=\"Original GPS\")\n",
    "ax.plot(snap_x, snap_y, \"o-\", color=\"red\", alpha=0.6, label=\"Snapped to Road\")\n",
    "ax.legend(fontsize=12)\n",
    "plt.title(\"GPS vs Nearest-Edge Map Matching\")\n",
    "plt.show()"
   ]
  }
 ],
 "metadata": {
  "language_info": {
   "name": "python"
  }
 },
 "nbformat": 4,
 "nbformat_minor": 5
}
